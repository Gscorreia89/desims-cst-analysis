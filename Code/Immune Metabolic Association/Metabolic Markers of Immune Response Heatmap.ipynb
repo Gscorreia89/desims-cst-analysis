{
 "cells": [
  {
   "cell_type": "markdown",
   "metadata": {},
   "source": [
    "## Metabolic Markers of Immune Response\n",
    "\n",
    "Visualization of the results from the immune ~ metabolome regression analyses"
   ]
  },
  {
   "cell_type": "code",
   "execution_count": null,
   "metadata": {},
   "outputs": [],
   "source": [
    "import pandas as pds\n",
    "import numpy as np\n",
    "\n",
    "import matplotlib as mpl\n",
    "import matplotlib.pyplot as plt"
   ]
  },
  {
   "cell_type": "code",
   "execution_count": null,
   "metadata": {},
   "outputs": [],
   "source": [
    "global_rf_models = pds.read_csv('./CVF_ImmuneMarkers_Analysis/VMET2 RF_Regressor_Immune_DESI_NEG.csv')"
   ]
  },
  {
   "cell_type": "code",
   "execution_count": null,
   "metadata": {},
   "outputs": [],
   "source": [
    "immune_analysis = pds.ExcelFile(\"./CVF_ImmuneMarkers_Analysis/VMET2_DESI_NEG_Immune_LinearModels.xlsx\")"
   ]
  },
  {
   "cell_type": "code",
   "execution_count": null,
   "metadata": {},
   "outputs": [],
   "source": [
    "immune_markers = {}\n",
    "for x in immune_analysis.sheet_names:\n",
    "    immune_markers[x] = pds.read_excel(immune_analysis, x)"
   ]
  },
  {
   "cell_type": "code",
   "execution_count": null,
   "metadata": {},
   "outputs": [],
   "source": [
    "# Select only markers\n",
    "which_markers = ['CVF IL-1beta', 'CVF IL-8',  'CVF MBL', 'CVF C5a', 'CVF C3b_iC3b', \n",
    "                 'CVF IgE', 'CVF IgG2', 'CVF IgG3', 'CVF IgG4', 'CVF IgM']\n"
   ]
  },
  {
   "cell_type": "markdown",
   "metadata": {},
   "source": [
    "Specify a cut-off criteria to display markers - Here is an $r^{2}$ value greater than 0.1 and statistically different from 0 (r2 $\\neq$ 0, q-value < 0.05, FDR corrected with Benjamini-Hochberg)."
   ]
  },
  {
   "cell_type": "code",
   "execution_count": null,
   "metadata": {},
   "outputs": [],
   "source": [
    "r2_criteria = 0.1\n",
    "r2_qval_criteria = 0.05\n",
    "markers = list()\n",
    "for x in range(22):\n",
    "    markers.append(set(immune_markers[list(immune_markers.keys())[x]].loc[(immune_markers[list(immune_markers.keys())[x]]['R2'] > r2_criteria) & (immune_markers[list(immune_markers.keys())[x]]['R2_qval'] < r2_qval_criteria), 'Metabolite']))"
   ]
  },
  {
   "cell_type": "code",
   "execution_count": null,
   "metadata": {},
   "outputs": [],
   "source": [
    "selected_markers = set.union(*markers)"
   ]
  },
  {
   "cell_type": "code",
   "execution_count": null,
   "metadata": {},
   "outputs": [],
   "source": [
    "r2_vals = list()\n",
    "for marker in which_markers:\n",
    "    for metabolite in selected_markers:\n",
    "        #r2_vals.append(np.sign(immune_markers[marker].loc[immune_markers[marker]['Metabolite'].isin(set.union(*markers)), 'tvalue']) * immune_markers[marker].loc[immune_markers[marker]['Metabolite'].isin(set.union(*markers)), 'R2'])\n",
    "        r2_vals.append(immune_markers[marker].loc[immune_markers[marker]['Metabolite'] == metabolite, 'tvalue'].values)\n",
    "\n",
    "r2_sign = np.array(r2_vals).reshape((len(which_markers), len(selected_markers)))\n",
    "#r2_sign = np.vstack(r2_vals)\n"
   ]
  },
  {
   "cell_type": "code",
   "execution_count": null,
   "metadata": {},
   "outputs": [],
   "source": [
    "selected_markers = np.array(list(selected_markers))"
   ]
  },
  {
   "cell_type": "code",
   "execution_count": null,
   "metadata": {},
   "outputs": [],
   "source": [
    "sort_by_tstat = r2_sign.mean(0).argsort()\n",
    "r2_sign = r2_sign[:, sort_by_tstat]\n",
    "markers_x_labels = [round(x, 4) for x in selected_markers[sort_by_tstat]]"
   ]
  },
  {
   "cell_type": "markdown",
   "metadata": {},
   "source": [
    "Generate the heatmaps from Figure 4 (A and B)."
   ]
  },
  {
   "cell_type": "code",
   "execution_count": null,
   "metadata": {
    "scrolled": false
   },
   "outputs": [],
   "source": [
    "#fig, axes = plt.subplots(1, 2, dpi=200, figsize=(20, 10))\n",
    "from matplotlib import gridspec\n",
    "from matplotlib import colors\n",
    "\n",
    "fig = plt.figure(figsize = (20,10), dpi=200)\n",
    "\n",
    "gs1 = gridspec.GridSpec(1, 5)\n",
    "\n",
    "gs1.update(wspace=0, hspace=0) # set the spacing between axes. \n",
    "\n",
    "axes = list()\n",
    "axes.append(plt.subplot(gs1[0]))\n",
    "axes.append(plt.subplot(gs1[1:]))\n",
    "\n",
    "\n",
    "r2_rf = axes[0].imshow(global_rf_models['Rsquared'].values[:, None], cmap='RdYlBu_r', vmax=1, vmin=-1)\n",
    "\n",
    "axes[0].set_yticks(np.arange(global_rf_models.shape[0]))\n",
    "axes[0].set_yticklabels(global_rf_models['ImmuneMarker'].values)\n",
    "axes[0].set_xticks([])\n",
    "axes[0].set_xticklabels([])\n",
    "\n",
    "valfmt = mpl.ticker.StrMethodFormatter(\"{x:.2f}\")\n",
    "\n",
    "for i in range(global_rf_models.shape[0]):\n",
    "    axes[0].text(0, i, valfmt(global_rf_models['Rsquared'][i]), horizontalalignment='center', \n",
    "                 verticalalignment='center')\n",
    "\n",
    "axes[0].set_aspect(0.3)\n",
    "\n",
    "#r2_vals = list()\n",
    "#for marker in which_markers:\n",
    "#    r2_vals.append(np.sign(immune_markers[marker]['tvalue']) * immune_markers[marker]['R2'])\n",
    "\n",
    "#r2_sign = np.vstack(r2_vals)\n",
    "\n",
    "#r2_vals = list()\n",
    "#for marker in which_markers:\n",
    "#    for metabolite in selected_markers:\n",
    "        #r2_vals.append(np.sign(immune_markers[marker].loc[immune_markers[marker]['Metabolite'].isin(set.union(*markers)), 'tvalue']) * immune_markers[marker].loc[immune_markers[marker]['Metabolite'].isin(set.union(*markers)), 'R2'])\n",
    "        #r2_vals.append(immune_markers[marker].loc[immune_markers[marker]['Metabolite'] == metabolite, 'tvalue'].values)\n",
    "\n",
    "# r2_sign = np.array(r2_vals).reshape((len(which_markers), len(selected_markers)))\n",
    "#r2_sign = np.vstack(r2_vals)\n",
    "\n",
    "divnorm = colors.DivergingNorm(vmin=r2_sign.min(), vcenter=0, vmax=r2_sign.max())\n",
    "\n",
    "axes[1].set_yticks(np.arange(len(which_markers)))\n",
    "axes[1].set_yticklabels(which_markers)\n",
    "axes[1].yaxis.set_label_position(\"right\")\n",
    "axes[1].yaxis.tick_right()\n",
    "axes[1].set_xticks(range(len(set.union(*markers))))\n",
    "axes[1].set_xticklabels(markers_x_labels, rotation=90)\n",
    "\n",
    "#r2_markers = axes[1].imshow(r2_sign, cmap='RdYlGn', vmax=1, vmin=-1)\n",
    "r2_markers = axes[1].imshow(r2_sign, cmap='RdYlBu_r', norm=divnorm)\n",
    "\n",
    "axes[1].set_aspect('auto')\n",
    "\n",
    "#fig.subplots_adjust(wspace=0, hspace=0, right=0.8)\n",
    "\n",
    "#position=fig.add_axes([0.85,0.1,0.025,1])  ## the parameters are the specified position you set \n",
    "\n",
    "#fig1.colorbar(sc,cax=position) ## \n",
    "\n",
    "cbar = axes[1].figure.colorbar(r2_markers, pad=0.1)\n",
    "#cbar.ax.set_ylabel(r'$R^{2}  \\times  sign(\\beta)$', rotation=-90, va=\"bottom\")\n",
    "cbar.ax.set_ylabel(r'$t-ratio$', rotation=-90, va=\"bottom\")\n",
    "\n",
    "fig.savefig('./CVF_ImmuneMarkers_Analysis/Figure 4 Heatmap.png', bbox_inches='tight')"
   ]
  },
  {
   "cell_type": "code",
   "execution_count": null,
   "metadata": {},
   "outputs": [],
   "source": []
  }
 ],
 "metadata": {
  "kernelspec": {
   "display_name": "Python 3",
   "language": "python",
   "name": "python3"
  },
  "language_info": {
   "codemirror_mode": {
    "name": "ipython",
    "version": 3
   },
   "file_extension": ".py",
   "mimetype": "text/x-python",
   "name": "python",
   "nbconvert_exporter": "python",
   "pygments_lexer": "ipython3",
   "version": "3.7.10"
  }
 },
 "nbformat": 4,
 "nbformat_minor": 4
}
