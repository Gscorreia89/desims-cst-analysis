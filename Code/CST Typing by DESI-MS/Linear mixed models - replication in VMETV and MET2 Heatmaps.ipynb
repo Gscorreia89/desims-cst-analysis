{
 "cells": [
  {
   "cell_type": "markdown",
   "metadata": {},
   "source": [
    "# Visualisation and analysis of the results from the DESI-MS linear mixed models"
   ]
  },
  {
   "cell_type": "markdown",
   "metadata": {},
   "source": [
    "### Import required packages"
   ]
  },
  {
   "cell_type": "code",
   "execution_count": 1,
   "metadata": {},
   "outputs": [],
   "source": [
    "import pandas as pds\n",
    "import matplotlib.pyplot as plt\n",
    "import seaborn as sns\n",
    "import numpy as np\n",
    "from matplotlib.colors import ListedColormap"
   ]
  },
  {
   "cell_type": "markdown",
   "metadata": {},
   "source": [
    "## Read the raw DESI-MS data"
   ]
  },
  {
   "cell_type": "markdown",
   "metadata": {},
   "source": [
    "### VMET2 Cohort"
   ]
  },
  {
   "cell_type": "code",
   "execution_count": 2,
   "metadata": {},
   "outputs": [],
   "source": [
    "desi_pos_vmet2 = pds.read_csv('../../Data/VMET2_DESI-MS_POS.csv')\n",
    "desi_neg_vmet2 = pds.read_csv('../../Data/VMET2_DESI-MS_NEG.csv')\n",
    "\n",
    "vmet2_metadata = pds.read_csv('../../Data/VMET2_CSTAssignment.csv')\n",
    "\n",
    "desi_pos_vmet2 = vmet2_metadata.merge(desi_pos_vmet2, on='Seq_ID')\n",
    "desi_neg_vmet2 = vmet2_metadata.merge(desi_neg_vmet2, on='Seq_ID')"
   ]
  },
  {
   "cell_type": "markdown",
   "metadata": {},
   "source": [
    "### VMET Cohort"
   ]
  },
  {
   "cell_type": "code",
   "execution_count": 3,
   "metadata": {},
   "outputs": [],
   "source": [
    "desi_pos_vmet = pds.read_csv('../../Data/VMET_DESI-MS_NEG.csv')\n",
    "desi_neg_vmet = pds.read_csv('../../Data/VMET_DESI-MS_NEG.csv')\n",
    "\n",
    "vmet_metadata = pds.read_csv('../../Data/VMET_CSTAssignment.csv')\n",
    "\n",
    "desi_pos_vmet = vmet_metadata.merge(desi_pos_vmet, left_on='Seq_ID', right_on='Seq_ID')\n",
    "desi_neg_vmet = vmet_metadata.merge(desi_neg_vmet, left_on='Seq_ID', right_on='Seq_ID')"
   ]
  },
  {
   "cell_type": "markdown",
   "metadata": {},
   "source": [
    "## Replication of results across the VMET2 and VMET studies"
   ]
  },
  {
   "cell_type": "markdown",
   "metadata": {},
   "source": [
    "Find matching peaks (peaks within a certain m/z error from each other) from the VMET and VMET2 datasets which were found to be statistically significant in the linear mixed model analysis of both datasets."
   ]
  },
  {
   "cell_type": "code",
   "execution_count": 4,
   "metadata": {},
   "outputs": [],
   "source": [
    "# Define these 2 utility functions to do the matching and comparison of output files from the\n",
    "# \"Linear mixed effect models DESI-MS.Rmd\" notebook.\n",
    "\n",
    "def checkResults(file1, file2, excelFile, datasetNames, sigLevel=0.05, tolerance=5):\n",
    "    \n",
    "    file1_res = pds.read_csv(file1)\n",
    "    file2_res = pds.read_csv(file2)\n",
    "    \n",
    "    contrasts_file1_names = file1_res.columns\n",
    "    contrasts_file2_names = file2_res.columns\n",
    "    \n",
    "    contrast_names = contrasts_file1_names[contrasts_file1_names.isin(contrasts_file2_names)]\n",
    "    contrast_names = [x for x in contrast_names if '_pval' in x]\n",
    "    match_list = list()\n",
    "    file1_only_list = list()\n",
    "    file2_only_list = list()\n",
    "    \n",
    "    with pds.ExcelWriter(excelFile) as writer:\n",
    "        \n",
    "        for contrast in contrast_names:\n",
    "            \n",
    "            file1_sig_names = file1_res.loc[file1_res[contrast] < sigLevel, 'Metabolite']\n",
    "            file2_sig_names = file2_res.loc[file2_res[contrast] < sigLevel, 'Metabolite']\n",
    "            \n",
    "            matches = matchPeaks(file1_sig_names, file2_sig_names, datasetNames, tolerance)\n",
    "            matches.to_excel(writer, sheet_name=contrast + 'Shared')\n",
    "            match_list.append([contrast, matches])\n",
    "            file1_only = pds.DataFrame(file1_sig_names[~file1_sig_names.isin(matches[datasetNames[0] + '_Metabolite'])])\n",
    "            file2_only = pds.DataFrame(file2_sig_names[~file2_sig_names.isin(matches[datasetNames[1] + '_Metabolite'])])\n",
    "            file1_only_list.append([contrast, file1_only])\n",
    "            file2_only_list.append([contrast, file2_only])\n",
    "            file1_only.to_excel(writer, sheet_name=contrast + ' ' + datasetNames[0])\n",
    "            file2_only.to_excel(writer, sheet_name=contrast + ' ' + datasetNames[1])\n",
    "\n",
    "    return match_list, file1_only_list, file2_only_list\n",
    "\n",
    "def matchPeaks(vec1, vec2, datasetNames, tolerance=5):\n",
    "    \n",
    "    A = vec1.reset_index(drop=True)\n",
    "    B = vec2.reset_index(drop=True)\n",
    "    \n",
    "    \n",
    "    matches = [(idx, x, np.argmin(np.abs(x - B)), B[np.argmin(np.abs(x - B))]) for idx, x in enumerate(A) if np.min(np.abs(x-B))/x*1e6 < tolerance]\n",
    "    matches = pds.DataFrame(matches, columns=[datasetNames[0] + '_idx', datasetNames[0] + '_Metabolite', datasetNames[1] + '_idx', datasetNames[1] + '_Metabolite'])\n",
    "    return matches"
   ]
  },
  {
   "cell_type": "markdown",
   "metadata": {},
   "source": [
    "## Identify statistically significant features shared between the VMET2 and VMET datasets\n",
    "\n",
    "By default a metabolic feature is considered replicated in both VMET and VMET2 if for a statistically significant marker (Benjamini-Hochberg FDR q-value < 0.05) there is another signal within less than 5 ppm error in the other dataset which also has a BH q-value < 0.05.\n",
    "\n",
    "Two files with the positive and negative ion mode overlap are exported, **DESI_NEG_BH_LinearModelReplication.xlsx** and **DESI_POS_BH_LinearModelReplication.xlsx**."
   ]
  },
  {
   "cell_type": "code",
   "execution_count": 5,
   "metadata": {},
   "outputs": [],
   "source": [
    "vmet2_res_neg =  './LinearMixedModels_DESI-MS/VMET2_DESI_NEG_LME_CST.csv'\n",
    "vmet_res_neg = './LinearMixedModels_DESI-MS/VMET_DESI_NEG_LME_CST.csv'\n",
    "\n",
    "vmet2_res_pos = './LinearMixedModels_DESI-MS/VMET2_DESI_POS_LME_CST.csv'\n",
    "vmet_res_pos = './LinearMixedModels_DESI-MS/VMET_DESI_POS_LME_CST.csv'\n",
    "\n",
    "vmet2_res_pos_bh = './LinearMixedModels_DESI-MS/VMET2_DESI_POS_LME_CST_BH.csv'  \n",
    "vmet_res_pos_bh =  './LinearMixedModels_DESI-MS/VMET_DESI_POS_LME_CST_BH.csv'\n",
    "\n",
    "vmet2_res_neg_bh = './LinearMixedModels_DESI-MS/VMET2_DESI_NEG_LME_CST_BH.csv' \n",
    "vmet_res_neg_bh = './LinearMixedModels_DESI-MS/VMET_DESI_NEG_LME_CST_BH.csv'\n",
    "\n",
    "dneg_matches = checkResults(vmet2_res_neg, vmet_res_neg, './LinearMixedModels_DESI-MS/DESI_NEG_LinearModelReplication.xlsx', ['VMET2', 'VMET'])\n",
    "dpos_matches = checkResults(vmet2_res_pos, vmet_res_pos, './LinearMixedModels_DESI-MS/DESI_POS_LinearModelReplication.xlsx', ['VMET2', 'VMET'])\n",
    "\n",
    "dneg_bh_matches = checkResults(vmet2_res_neg_bh, vmet_res_neg_bh, './LinearMixedModels_DESI-MS/DESI_NEG_BH_LinearModelReplication.xlsx', ['VMET2', 'VMET'])\n",
    "dpos_bh_matches = checkResults(vmet2_res_pos_bh, vmet_res_pos_bh, './LinearMixedModels_DESI-MS/DESI_POS_BH_LinearModelReplication.xlsx', ['VMET2', 'VMET'])\n",
    "\n"
   ]
  },
  {
   "cell_type": "code",
   "execution_count": 6,
   "metadata": {},
   "outputs": [],
   "source": [
    "# Prepare the feature selection vectors \n",
    "# Commented code can be used to account for floating point precision differences \n",
    "# between exported results and raw data frame if required.\n",
    "\n",
    "Dataset = 'VMET2'\n",
    "dnegMetLDep_vmet2 = dneg_bh_matches[0][15][1][Dataset + '_Metabolite']\n",
    "dposMetLDep_vmet2 = dpos_bh_matches[0][15][1][Dataset + '_Metabolite']\n",
    "\n",
    "# Round metabolites and convert to string to allow column indexing by \"mz\" \n",
    "#dnegMetLDep_vmet2 = dnegMetLDep_vmet2.round(8)\n",
    "#dnegMetLDep_vmet2 = dnegMetLDep_vmet2.astype(str)\n",
    "\n",
    "#dposMetLDep_vmet2 = dposMetLDep_vmet2.round(2)\n",
    "#dposMetLDep_vmet2 = dposMetLDep_vmet2.astype(str)\n",
    "\n",
    "Dataset = 'VMET'\n",
    "dnegMetLDep_vmet = dneg_bh_matches[0][15][1][Dataset + '_Metabolite']\n",
    "dposMetLDep_vmet = dpos_bh_matches[0][15][1][Dataset + '_Metabolite']\n",
    "\n",
    "# Round metabolites and convert to string to allow column indexing by \"mz\" \n",
    "#dnegMetLDep_vmet = dnegMetLDep_vmet.round(10)\n",
    "#dnegMetLDep_vmet = dnegMetLDep_vmet.astype(str)\n",
    "\n",
    "#dposMetLDep_vmet = dposMetLDep_vmet.round(10)\n",
    "#dposMetLDep_vmet = dposMetLDep_vmet.astype(str)"
   ]
  },
  {
   "cell_type": "code",
   "execution_count": 7,
   "metadata": {},
   "outputs": [],
   "source": [
    "desi_neg_vmet2_metabolites = np.array([float(x) for x in desi_neg_vmet2.columns[8:-1]])\n",
    "desi_pos_vmet2_metabolites = np.array([float(x) for x in desi_pos_vmet2.columns[8:-1]])\n",
    "desi_neg_vmet_metabolites = np.array([float(x) for x in desi_neg_vmet.columns[8:-1]])\n",
    "desi_pos_vmet_metabolites = np.array([float(x) for x in desi_pos_vmet.columns[8:-1]])\n",
    "\n",
    "dnegMetLDep_vmet2 = np.array([desi_neg_vmet2_metabolites[np.argmin(np.abs(desi_neg_vmet2_metabolites - float(x)))] for x in dnegMetLDep_vmet2])\n",
    "dposMetLDep_vmet2 = np.array([desi_pos_vmet2_metabolites[np.argmin(np.abs(desi_pos_vmet2_metabolites - float(x)))] for x in dposMetLDep_vmet2])\n",
    "\n",
    "dnegMetLDep_vmet = np.array([desi_neg_vmet_metabolites[np.argmin(np.abs(desi_neg_vmet_metabolites - float(x)))] for x in dnegMetLDep_vmet])\n",
    "dposMetLDep_vmet = np.array([desi_pos_vmet_metabolites[np.argmin(np.abs(desi_pos_vmet_metabolites - float(x)))] for x in dposMetLDep_vmet])\n",
    "\n",
    "dnegMetLDep_vmet2 = dnegMetLDep_vmet2.astype(str)\n",
    "dposMetLDep_vmet2 = dposMetLDep_vmet2.astype(str)\n",
    "dnegMetLDep_vmet = dnegMetLDep_vmet.astype(str)\n",
    "dposMetLDep_vmet = dposMetLDep_vmet.astype(str)"
   ]
  },
  {
   "cell_type": "markdown",
   "metadata": {},
   "source": [
    "### Generate the heatmap plots from the VMET and VMET2 linear mixed model analysis, as seen in Figure 1 B"
   ]
  },
  {
   "cell_type": "code",
   "execution_count": 8,
   "metadata": {},
   "outputs": [],
   "source": [
    "# Helper function to re-order the dataframes according to CST for easier comparison\n",
    "def assembleMat(dataframe, covariate, categoryOrder=['I', 'II', 'III', 'V', 'VI', 'IV']):\n",
    "    asCategorical = pds.Categorical(dataframe[covariate])\n",
    "    \n",
    "    reordered_frame = list()\n",
    "    \n",
    "    #for category in asCategorical.categories:\n",
    "    for category in categoryOrder:\n",
    "        reordered_frame.append(dataframe.loc[dataframe[covariate] == category, :])\n",
    "        \n",
    "    reordered_frame = pds.concat(reordered_frame, axis=0)\n",
    "    \n",
    "    return reordered_frame\n"
   ]
  },
  {
   "cell_type": "code",
   "execution_count": 9,
   "metadata": {},
   "outputs": [],
   "source": [
    "# Add a LDominant vs LDepleted information variable\n",
    "desi_neg_vmet2['LDom'] = 'NA'\n",
    "desi_neg_vmet2.loc[desi_neg_vmet2['CST'].isin(['I', 'II', 'III', 'V', 'VII']), 'LDom'] = 'Lactobacillus Dominant'\n",
    "desi_neg_vmet2.loc[desi_neg_vmet2['CST'].isin(['VI', 'IV']), 'LDom'] = 'Lactobacillus Depleted'\n",
    "\n",
    "desi_neg_vmet['LDom'] = 'NA'\n",
    "desi_neg_vmet.loc[desi_neg_vmet['CST'].isin(['I', 'II', 'III', 'V', 'VII']), 'LDom'] = 'Lactobacillus Dominant'\n",
    "desi_neg_vmet.loc[desi_neg_vmet['CST'].isin(['VI', 'IV']), 'LDom'] = 'Lactobacillus Depleted'"
   ]
  },
  {
   "cell_type": "markdown",
   "metadata": {},
   "source": [
    "The plotHeatmap function is defined first and then used with the results from VMET and VMET2 to generate the heatmaps shown in Figure 1 B."
   ]
  },
  {
   "cell_type": "code",
   "execution_count": 10,
   "metadata": {
    "scrolled": false
   },
   "outputs": [],
   "source": [
    "def plotHeatmap(dataset, features, row_covariate, row_covariate2=None, categoryOrder=['I', 'II', 'III', 'V', 'VII', 'VI', 'IV'], row_cluster=True):\n",
    "    \n",
    "    nColors = len(dataset[row_covariate].unique())\n",
    "    cmap = ListedColormap(sns.color_palette(\"deep\", nColors))\n",
    "\n",
    "    dataset_ordered = assembleMat(dataset, row_covariate, categoryOrder)\n",
    "    Xmat = dataset_ordered.loc[:, features]\n",
    "    \n",
    "    col_colors_vec = dataset_ordered[row_covariate]\n",
    "    col_colors = [col_colors_vec.astype('category').cat.codes.map(cmap)]\n",
    "    \n",
    "    \n",
    "    if row_covariate2 is not None:\n",
    "        nColors2 = len(dataset[row_covariate2].unique())\n",
    "        cmap_cat2= ListedColormap(sns.color_palette(\"Set1\", nColors2))\n",
    "        col_colors_vec_2 = dataset_ordered[row_covariate2]\n",
    "        col_colors_2 = col_colors_vec_2.astype('category').cat.codes.map(cmap_cat2)\n",
    "        col_colors.append(col_colors_2)\n",
    "    \n",
    "    metaboMap = sns.clustermap(Xmat.T, row_cluster=row_cluster, method='ward', z_score=0, \n",
    "                        yticklabels=False, col_colors=col_colors, cmap='RdPu',\n",
    "                           xticklabels=False, col_cluster=False)\n",
    "    \n",
    "    \n",
    "    bottom, top = metaboMap.ax_heatmap.get_ylim()\n",
    "    #metaboMap.ax_heatmap.set_ylim(bottom + 0.5, top - 0.5)\n",
    "    \n",
    "    for idx, label in enumerate(col_colors_vec.astype('category').cat.categories):\n",
    "        metaboMap.ax_col_dendrogram.bar(0, 0, color=cmap(idx), label= label, linewidth=0)\n",
    "    \n",
    "    for idx, label in enumerate(col_colors_vec_2.astype('category').cat.categories):\n",
    "        metaboMap.ax_col_colors.bar(0, 0, color=cmap_cat2(idx), label=label, linewidth=0)\n",
    "\n",
    "        \n",
    "    metaboMap.ax_col_dendrogram.legend(loc='center', ncol=8)\n",
    "    metaboMap.ax_col_colors.legend(loc='upper center', bbox_to_anchor=(0.5, +2.5), ncol=2)\n",
    "\n",
    "    metaboMap.cax.set_ylabel('z(intensity)')\n",
    "\n",
    "    \n",
    "    return metaboMap\n",
    "    "
   ]
  },
  {
   "cell_type": "markdown",
   "metadata": {},
   "source": [
    "Generate the VMET2 heatmap"
   ]
  },
  {
   "cell_type": "code",
   "execution_count": null,
   "metadata": {
    "scrolled": false
   },
   "outputs": [],
   "source": [
    "image_vmet2 = plotHeatmap(desi_neg_vmet2, dnegMetLDep_vmet2, 'CST', 'LDom')\n",
    "image_vmet2.savefig('./LinearMixedModels_DESI-MS/ExampleFeaturesVMET2_Heatmap_Figure1.png', dpi=150)\n",
    "#image_vmet2.savefig('VMET2_Heatmap_Figure1.eps', dpi=150)\n",
    "#image_vmet2.savefig('VMET2_Heatmap_Figure1.svg', dpi=150)"
   ]
  },
  {
   "cell_type": "markdown",
   "metadata": {},
   "source": [
    "Generate the VMET heatmap"
   ]
  },
  {
   "cell_type": "code",
   "execution_count": null,
   "metadata": {
    "scrolled": false
   },
   "outputs": [],
   "source": [
    "image_vmet = plotHeatmap(desi_neg_vmet, dnegMetLDep_vmet[image_vmet2.dendrogram_row.reordered_ind], 'CST', 'LDom', row_cluster=False)\n",
    "image_vmet.savefig('./LinearMixedModels_DESI-MS/VMET_Heatmap_Figure1.png', dpi=150)\n",
    "#image_vmet.savefig('VMET_Heatmap_Figure1.eps', dpi=150)\n",
    "#image_vmet.savefig('VMET_Heatmap_Figure1.svg', dpi=150)"
   ]
  },
  {
   "cell_type": "code",
   "execution_count": null,
   "metadata": {},
   "outputs": [],
   "source": []
  }
 ],
 "metadata": {
  "kernelspec": {
   "display_name": "Python 3",
   "language": "python",
   "name": "python3"
  },
  "language_info": {
   "codemirror_mode": {
    "name": "ipython",
    "version": 3
   },
   "file_extension": ".py",
   "mimetype": "text/x-python",
   "name": "python",
   "nbconvert_exporter": "python",
   "pygments_lexer": "ipython3",
   "version": "3.9.4"
  }
 },
 "nbformat": 4,
 "nbformat_minor": 2
}
