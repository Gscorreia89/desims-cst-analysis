{
 "cells": [
  {
   "cell_type": "markdown",
   "metadata": {},
   "source": [
    "## Community State Type Analysis\n",
    "\n",
    "This notebook contains the steps to perform hierarchical clustering and derive community state type information for the VMET cohort."
   ]
  },
  {
   "cell_type": "code",
   "execution_count": null,
   "metadata": {},
   "outputs": [],
   "source": [
    "import pandas as pds\n",
    "import numpy as np\n",
    "import matplotlib.pyplot as plt\n",
    "from matplotlib.colors import ListedColormap\n",
    "import seaborn as sns\n",
    "from scipy.spatial import distance\n",
    "from sklearn.metrics import silhouette_samples\n",
    "import matplotlib.ticker as ticker\n",
    "from CST_Clustering import cluster16SMatrix, validateClusters"
   ]
  },
  {
   "cell_type": "markdown",
   "metadata": {},
   "source": [
    "The hierarchical clustering will be performed on the data matrix with counts aggregated per species (sum of all OTUs for a given species). This file was generated separately with the *aggregateOTUs.py* script."
   ]
  },
  {
   "cell_type": "code",
   "execution_count": null,
   "metadata": {},
   "outputs": [],
   "source": [
    "# Read the 16S count data matrix\n",
    "counts_species = pds.read_csv('../../Data/16S Data/VMET_16S_SpeciesMatrixFiltered.csv')\n",
    "\n",
    "# Study clinical and demographic data\n",
    "vmetMetadata = pds.read_csv('../../Data/VMET_Metadata.csv')\n",
    "\n",
    "counts_species = vmetMetadata.merge(counts_species, left_on='Seq_ID', right_on='Seq_ID')\n",
    "# Select only the columns containing counts. The index starts at 20\n",
    "counts_matrix = counts_species.iloc[:, 20::]\n",
    "\n",
    "counts_matrix.index = counts_species['Seq_ID'].values\n",
    "counts_matrix.index = counts_matrix.index.set_names('Seq_ID')"
   ]
  },
  {
   "cell_type": "markdown",
   "metadata": {},
   "source": [
    "# Selecting the number of clusters - CST's\n",
    "\n",
    "In the next cell, the \"optimal\" number of clusters is estimated using the silhouette score. \n",
    "The validateClusters function is defined separately in the *CST_Clustering.py* file."
   ]
  },
  {
   "cell_type": "code",
   "execution_count": null,
   "metadata": {},
   "outputs": [],
   "source": [
    "cluster_validation = validateClusters(counts_matrix, distanceMetric='jensenshannon', clusterMethod='ward', method='silhouette')\n",
    "fig, ax = plt.subplots(dpi=150, figsize=(6, 3))\n",
    "ax.plot(cluster_validation[0], cluster_validation[1], '-o')\n",
    "ax.xaxis.set_major_locator(ticker.MultipleLocator(2))\n",
    "ax.set_xlabel(\"Number of Clusters\")\n",
    "ax.set_ylabel(\"{0} score\".format(cluster_validation[2]))\n",
    "\n",
    "fig.savefig('./Analysis Figures/VMET_16S_SilhouetteValidation.png')\n",
    "# fig.savefig('./Analysis Figures/VMET_16S_SilhouetteValidation.eps')\n",
    "plt.show()\n",
    "print(\"The suggested number of clusters is {0}\".format(cluster_validation[0][np.argmax(cluster_validation[1])]))"
   ]
  },
  {
   "cell_type": "markdown",
   "metadata": {},
   "source": [
    "## Perform the Clustering of the CLR transformed 16S data matrix\n",
    "\n",
    "Vaginal Community State types are obtained by performing Ward hierarchical clustering and using Jensen-Shannon divergence as distance metric.\n",
    "\n",
    "Based on the silhouette score optimization performed on the previous cell, we select 7 clusters."
   ]
  },
  {
   "cell_type": "code",
   "execution_count": null,
   "metadata": {
    "scrolled": false
   },
   "outputs": [],
   "source": [
    "CST_Clustering = cluster16SMatrix(counts_matrix, nClusters=7, distanceMetric='jensenshannon', clusterMethod='ward')"
   ]
  },
  {
   "cell_type": "markdown",
   "metadata": {},
   "source": [
    "### Heatmap plot with the clustering dendrogram"
   ]
  },
  {
   "cell_type": "code",
   "execution_count": null,
   "metadata": {
    "scrolled": false
   },
   "outputs": [],
   "source": [
    "nCST = len(CST_Clustering['clusterID'].unique())\n",
    "cmap = ListedColormap(sns.color_palette(\"deep\", nCST))\n",
    "\n",
    "row_colors = CST_Clustering['clusterID'].map(cmap)\n",
    "\n",
    "\n",
    "cstMap = sns.clustermap(np.log(counts_matrix.values[:, 0:30].T + 1), col_linkage=CST_Clustering['LinkageMatrix'], \n",
    "                        row_cluster=False, yticklabels=counts_matrix.columns[0:30], \n",
    "                        col_colors=row_colors.values, cmap='viridis', xticklabels=False)\n",
    "\n",
    "bottom, top = cstMap.ax_heatmap.get_ylim()\n",
    "cstMap.ax_heatmap.set_ylim(bottom + 0.5, top - 0.5)\n",
    "\n",
    "# the \n",
    "cst_string_decode_classic = {1:'V', 0:'III', 2:'I', 3:'II', 4:'IV', \n",
    "                     5:'IV', \n",
    "                     6:'IV'}\n",
    "\n",
    "\n",
    "cst_string_decode = {1:'V', 0:'III', 2:'I', 3:'II', 4:'IV', \n",
    "                     5:'IV', \n",
    "                     6:'IV'}\n",
    "\n",
    "for label in [2, 3, 1, 0, 5, 6, 4]:\n",
    "#for label in [2, 3, 1, 0, 5]:\n",
    "    cstMap.ax_col_dendrogram.bar(0, 20, color=cmap(label), label=cst_string_decode[label], linewidth=0)\n",
    "\n",
    "cstMap.ax_col_dendrogram.legend(bbox_to_anchor=(1.15, 1), loc='upper center', ncol=2)\n",
    "\n",
    "# Adjust the postion of the main colorbar for the heatmap\n",
    "cstMap.cax.set_position([0.05, .3, 0.05, .2])\n",
    "cstMap.cax.set_ylabel('Log(Counts + 1)')\n",
    "\n",
    "# Change for desired format.\n",
    "cstMap.savefig('./Analysis Figures/VMET_16S_CSTClustering.png', dpi=300)\n",
    "#cstMap.savefig('./Analysis Figures/VMET_16S_CSTClustering.eps', dpi=300)\n",
    "#cstMap.savefig('./Analysis Figures/VMET_16S_CSTClustering.svg', dpi=300)\n",
    "\n",
    "plt.show()"
   ]
  },
  {
   "cell_type": "markdown",
   "metadata": {},
   "source": [
    "To inspect the characteristic microbial composition of each cluster, we plot the mean relative abundances of the top 6 species per CST cluster."
   ]
  },
  {
   "cell_type": "code",
   "execution_count": null,
   "metadata": {
    "scrolled": false
   },
   "outputs": [],
   "source": [
    "fig, ax = plt.subplots(3, 3, dpi=300, figsize=(15,20), sharey=True)\n",
    "fig.delaxes(ax[2, 1])\n",
    "fig.delaxes(ax[2, 2])\n",
    "\n",
    "for idx, cst in enumerate(CST_Clustering['ClusterAbundances']):\n",
    "    \n",
    "    sns.barplot(x=np.arange(0, 6), y=cst[1][0:6], **{'yerr':cst[2][0:6], 'error_kw':{'lolims':True}}, ax=ax[int(np.floor(idx / 3)), idx % 3])\n",
    "    ax[int(np.floor(idx / 3)), idx % 3].set_xticklabels(cst[1][0:6].index, rotation='vertical', fontsize=10)\n",
    "    ax[int(np.floor(idx / 3)), idx % 3].set_title(\"Cluster Number: {0}\".format(str(cst[0] + 1)))\n",
    "\n",
    "fig.tight_layout()\n",
    "\n",
    "fig.savefig('./Analysis Figures/VMET_16S_CSTClustering_SpeciesDescription.png')\n",
    "# fig.savefig('./Analysis Figures/VMET_16S_CSTClustering_SpeciesDescription.eps')"
   ]
  },
  {
   "cell_type": "markdown",
   "metadata": {},
   "source": [
    "### Assess the silhouette values for samples accross the 7 CST clusters"
   ]
  },
  {
   "cell_type": "code",
   "execution_count": null,
   "metadata": {
    "scrolled": false
   },
   "outputs": [],
   "source": [
    "silhFrame = pds.DataFrame({'Cluster':CST_Clustering['clusterID'], 'Silhouette':CST_Clustering['SilhouetteSamples']})\n",
    "\n",
    "fig, ax = plt.subplots(dpi=300)\n",
    "sns.stripplot(data=silhFrame, x='Cluster', y='Silhouette', ax=ax)\n",
    "\n",
    "fig.savefig('./Analysis Figures/VMET_16S_CSTClustering_SilhouetteSamples.png')\n",
    "# fig.savefig('./Analysis Figures/VMET_16S_CSTClustering_SilhouetteSamples.eps')"
   ]
  },
  {
   "cell_type": "markdown",
   "metadata": {},
   "source": [
    "### Assess the silhouette values for samples in the aggregated CST (I, II, III, IV, V and VI)"
   ]
  },
  {
   "cell_type": "code",
   "execution_count": null,
   "metadata": {
    "scrolled": false
   },
   "outputs": [],
   "source": [
    "calcDistance = distance.pdist(counts_matrix.values, 'jensenshannon')\n",
    "calcDistance[np.isnan(calcDistance)] = 0\n",
    "distMat = distance.squareform(calcDistance)\n",
    "silhouetteSamples = silhouette_samples(distMat, CST_Clustering['clusterID'].map(cst_string_decode_classic), metric='precomputed')\n",
    "\n",
    "silhFrame = pds.DataFrame({'Cluster':CST_Clustering['clusterID'].map(cst_string_decode_classic), \n",
    "                           'Silhouette':silhouetteSamples})\n",
    "\n",
    "fig, ax = plt.subplots(dpi=150)\n",
    "sns.stripplot(data=silhFrame, x='Cluster', y='Silhouette', ax=ax)\n",
    "\n",
    "fig.savefig('./Analysis Figures/VMET_16S_CSTClustering_Classic_SilhouetteSamples.png')\n",
    "# fig.savefig('./Analysis Figures/VMET_16S_CSTClustering_Classic_SilhouetteSamples.eps')"
   ]
  },
  {
   "cell_type": "markdown",
   "metadata": {},
   "source": [
    "## Export the CST Assignments\n",
    "\n",
    "\n",
    "After obtaining the Community State Type information with hierarchical clustering, we export a dataframe containing the results "
   ]
  },
  {
   "cell_type": "code",
   "execution_count": null,
   "metadata": {},
   "outputs": [],
   "source": [
    "CSTAssignments = pds.DataFrame({'CST_11':CST_Clustering['clusterID'].map(cst_string_decode), \n",
    "                                'CST':CST_Clustering['clusterID'].map(cst_string_decode_classic),\n",
    "                                'SilhouetteValues':CST_Clustering['SilhouetteSamples']})\n",
    "\n",
    "CSTAssignments.index = counts_matrix.index"
   ]
  },
  {
   "cell_type": "markdown",
   "metadata": {},
   "source": [
    "Further to the CST classification, we specify a binary factor to discriminate samples where the vaginal microbial composition (VMC) is either dominated by Lactobacillus species (LDominant) or other species (LDepleted).\n",
    "\n",
    "There are 2 approaches to assign samples as LDominant vs LDepleted based on VMC:\n",
    "\n",
    "    1 - Based on the CST clusters derivded from HCA. Samples assigned to CST IV or CST VI (B. breve) are considered as \"Lactobacillus Depleted\". This is the main measured used in the manuscript.\n",
    "    2 - Using the Relative Abundance of Lactobacillus Species counts in a microbial profile. Samples with a high proportion of Lactobacillus species counts are considered \"Lactobacillus Dominant\". A major limitation of this method is selection of a \"good\" cut-off point.\n"
   ]
  },
  {
   "cell_type": "code",
   "execution_count": null,
   "metadata": {},
   "outputs": [],
   "source": [
    "# Find all Lactobacilli species\n",
    "Lactobacillus_Species = [x for x in counts_matrix.columns if 'Lactobacillus' in x]\n",
    "\n",
    "# Sum their counts\n",
    "lacto_counts = counts_matrix.loc[:, Lactobacillus_Species].sum(1)\n",
    "total_counts = counts_matrix.sum(1)\n",
    "# Calculate the lactobacillus percentage\n",
    "LactobacillusPercentage = (lacto_counts/total_counts)*100\n",
    "CSTAssignments['LactobacillusPercentage'] = LactobacillusPercentage\n",
    "\n",
    "# Histogram of the Lactobacilli species % accross samples.\n",
    "# 85% was a manually selected cut-off for L. Dominant vs L. Deplted by inspection of the histogram\n",
    "fig, ax = plt.subplots()\n",
    "CSTAssignments.hist('LactobacillusPercentage', bins=100, alpha=0.7, ax=ax)\n",
    "ax.axvline(x=85, color='red')\n",
    "ax.set_title('Relative abundance % for Lactobacillus spp counts')\n",
    "ax.set_ylabel('Count')\n",
    "ax.set_xlabel('Relative abundance % of Lactobacillus spp counts')\n",
    "\n",
    "\n",
    "CSTAssignments['LDominant_CST'] = 'LDominant'\n",
    "CSTAssignments['LDominant_RelAbundance'] = 'LDominant'\n",
    "# All CST IV samples are lactobacillus Depleted...\n",
    "CSTAssignments.loc[CSTAssignments['CST'] == 'IV', 'LDominant_CST'] = 'LDepleted'\n",
    "# As well as those from the Bifidobacterium breve cluster\n",
    "CSTAssignments.loc[CSTAssignments['CST'] == 'VI', 'LDominant_CST'] = 'LDepleted'\n",
    "\n",
    "# Using the Relative Abundance Criteria, samples with a relative abundance of less than 85 % are \n",
    "CSTAssignments.loc[CSTAssignments['LactobacillusPercentage'] <= 85, 'LDominant_RelAbundance'] = 'LDepleted'\n"
   ]
  },
  {
   "cell_type": "markdown",
   "metadata": {},
   "source": [
    "**Other Lactobacillus species**\n",
    "\n",
    "Similarly to the VMET2 dataset, samples dominated by Lactobacillus spp other than *crispatus*, *iners*, *gasseri* or *jensenii*, such as *L. acidophilus* and *L.rhamnosus* mixed with other samples composed mainly of anaerobes and *Streptococcus*. We re-assign manually the Lactobacilli samples from this cluster to a new cluster, designated as CST 'VII', also considered to be dominated by *Lactobacillus spp*"
   ]
  },
  {
   "cell_type": "code",
   "execution_count": null,
   "metadata": {},
   "outputs": [],
   "source": [
    "other_Lactobacillus = ['Lactobacillus_delbrueckii', 'Lactobacillus_acidophilus', 'Lactobacillus_vaginalis', 'Lactobacillus_coleohominis', 'Lactobacillus_rhamnosus','Lactobacillus_paracasei'] \n",
    "counts_matrix.idxmax(1).isin(other_Lactobacillus).index\n",
    "\n",
    "CSTAssignments.loc[counts_matrix.idxmax(1).isin(other_Lactobacillus), 'CST'] = 'VII'\n",
    "# Ensure these samples are also considered Dominant per Lactobacillus\n",
    "CSTAssignments.loc[counts_matrix.idxmax(1).isin(other_Lactobacillus), 'LDominant_CST'] = 'LDominant'"
   ]
  },
  {
   "cell_type": "code",
   "execution_count": null,
   "metadata": {},
   "outputs": [],
   "source": [
    "CSTAssignments.to_csv('../../Data/VMET_CSTAssignment.csv', index=True)"
   ]
  },
  {
   "cell_type": "code",
   "execution_count": null,
   "metadata": {},
   "outputs": [],
   "source": []
  }
 ],
 "metadata": {
  "kernelspec": {
   "display_name": "Python 3",
   "language": "python",
   "name": "python3"
  },
  "language_info": {
   "codemirror_mode": {
    "name": "ipython",
    "version": 3
   },
   "file_extension": ".py",
   "mimetype": "text/x-python",
   "name": "python",
   "nbconvert_exporter": "python",
   "pygments_lexer": "ipython3",
   "version": "3.7.10"
  }
 },
 "nbformat": 4,
 "nbformat_minor": 2
}
